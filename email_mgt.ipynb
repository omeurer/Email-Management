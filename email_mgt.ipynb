{
 "cells": [
  {
   "cell_type": "markdown",
   "metadata": {},
   "source": [
    "# How to clean your mailbox automatically and periodically to reduce gas emission (thanks to Python) . "
   ]
  },
  {
   "cell_type": "markdown",
   "metadata": {},
   "source": [
    "## Introduction"
   ]
  },
  {
   "cell_type": "markdown",
   "metadata": {},
   "source": [
    "***The huge amount of mails we receive everyday is stored into servers. Email storing is thus reponsible of unnecessary gas emission. A great action that can be taken is to delete a lot of them. Nonetheless, if we do it by hand, we can't even select all the mails from a particular kind.***\n",
    "\n",
    "Email marketing and newletters are are great ways to target its clients. Nonetheless, when these email become outdated, one can delete them. "
   ]
  },
  {
   "cell_type": "markdown",
   "metadata": {},
   "source": [
    "### With this notebook, you will be able to :\n",
    "\n",
    "1. Store variables in your environment system to be not explicitly readable in your code (such as your email & password),\n",
    "2. Know how to access your mailbox (Gmail, Yahoo, Outlook) thanks to Python,\n",
    "3. Store all your mail in a DataFrame (to get statistics, to know which sender is most frequent for example), \n",
    "4. Delete particular types of email according to different criteria, \n",
    "5. Get familiar with the time librairy. "
   ]
  },
  {
   "cell_type": "markdown",
   "metadata": {},
   "source": [
    "### To succeed this tutorial, you will need :\n",
    "\n",
    "1. Internet ;),\n",
    "2. to set the 2-step authentification parameter of your mail box, \n",
    "3. **Get an App Password**: you will not be able to access to your mail only with your raw password. \n",
    "\n",
    "Google's tutorial : https://support.google.com/mail/answer/185833"
   ]
  },
  {
   "cell_type": "markdown",
   "metadata": {},
   "source": [
    "**NB: The full code and references are at the end. We will understand each steps together.**\n",
    "\n",
    "I recommend you to run everything in a .py file, as a notebook access to the environmental variable only in the current working session. Nonetheless, you can run it in a ipynb, but your password will be explictly written."
   ]
  },
  {
   "cell_type": "markdown",
   "metadata": {},
   "source": [
    "I am not an expert (yet ;),just a student who loves data, and is concerned by the 876389 mails he has in its mailbox. Some process can be optimized : feel free to suggesst anything !"
   ]
  },
  {
   "cell_type": "markdown",
   "metadata": {},
   "source": [
    "## Step 1 : Set your password & username as environment variable"
   ]
  },
  {
   "cell_type": "markdown",
   "metadata": {},
   "source": [
    "First : get your App Password on your mail settings (it takes 2 min). It looks like : oiueronvkncdiuo.\n",
    "\n",
    "Google's tutorial : https://support.google.com/mail/answer/185833"
   ]
  },
  {
   "cell_type": "markdown",
   "metadata": {},
   "source": [
    "### Explicitly : accessible in a notebook. "
   ]
  },
  {
   "cell_type": "markdown",
   "metadata": {},
   "source": [
    "It is possible to set a variable into the current environment like this :"
   ]
  },
  {
   "cell_type": "code",
   "execution_count": 11,
   "metadata": {},
   "outputs": [],
   "source": [
    "os.environ['google_mail']='mymail@gmail.com'\n",
    "os.environ['google_psw']='my_google_app_key_password'"
   ]
  },
  {
   "cell_type": "markdown",
   "metadata": {},
   "source": [
    "And to get it:"
   ]
  },
  {
   "cell_type": "code",
   "execution_count": 10,
   "metadata": {},
   "outputs": [
    {
     "name": "stdout",
     "output_type": "stream",
     "text": [
      "mymail@gmail.com\n"
     ]
    }
   ],
   "source": [
    "myMail=os.environ.get('google_mail')\n",
    "print(myMail)"
   ]
  },
  {
   "cell_type": "markdown",
   "metadata": {},
   "source": [
    "And to access all the variables, just run:"
   ]
  },
  {
   "cell_type": "raw",
   "metadata": {},
   "source": [
    "os.environ"
   ]
  },
  {
   "cell_type": "markdown",
   "metadata": {},
   "source": [
    "Nonetheless, it will only be accessible in this environment during this session and not at anytime. Thus, it can be better to use the bash system. "
   ]
  },
  {
   "cell_type": "markdown",
   "metadata": {},
   "source": [
    "### Implictly : in bash"
   ]
  },
  {
   "cell_type": "markdown",
   "metadata": {},
   "source": [
    "For Mac, your terminal, write the following : \n",
    "\n",
    "1. cd\n",
    "2. nano .bash_profile (you can also write 'open .bash_profile which will open another tab)\n",
    "3. write at the end : \n",
    "\n",
    "export gmail=mygmail@gmail.com\n",
    "\n",
    "export google_psw=app_key_password (such as 'ldkfjdslmkfjsddisfj')\n",
    "\n",
    "...\n",
    "\n",
    "4. ctrl+X to save the changes\n",
    "5. Y to say validate\n",
    "6. Enter to exit. "
   ]
  },
  {
   "cell_type": "markdown",
   "metadata": {},
   "source": [
    "You can put how many variables you like ! Let's try if it worked. "
   ]
  },
  {
   "cell_type": "raw",
   "metadata": {},
   "source": [
    "os.environ # to get all the variables you have in os. "
   ]
  },
  {
   "cell_type": "markdown",
   "metadata": {},
   "source": [
    "**If you run it in a notebook, your will only access the environment variable in the current notebook session : email & password will have to be written explictly at the beginning. On a .py , no worries !**"
   ]
  },
  {
   "cell_type": "markdown",
   "metadata": {},
   "source": [
    "## Step 2 : Let's delete our unneccessary email !"
   ]
  },
  {
   "cell_type": "markdown",
   "metadata": {},
   "source": [
    "Let's dive in the python codes. "
   ]
  },
  {
   "cell_type": "markdown",
   "metadata": {},
   "source": [
    "### 1. Librairies"
   ]
  },
  {
   "cell_type": "code",
   "execution_count": 4,
   "metadata": {},
   "outputs": [],
   "source": [
    "import smtplib, sys, imaplib, os, email\n",
    "from pandas import DataFrame, Series\n",
    "from email.header import Header, decode_header, make_header\n",
    "import matplotlib.pyplot as plt\n",
    "import datetime\n",
    "import pandas as pd\n",
    "import time\n",
    "import numpy as np"
   ]
  },
  {
   "cell_type": "markdown",
   "metadata": {},
   "source": [
    "### 2. Get the environment variables."
   ]
  },
  {
   "cell_type": "code",
   "execution_count": 200,
   "metadata": {},
   "outputs": [],
   "source": [
    "os.environ[\"google_mail\"]='mygoogle@gmail.com' #On a private notebook, you can write it explictly. \n",
    "os.environ[\"google_psw\"]='efoizefoziufz'"
   ]
  },
  {
   "cell_type": "code",
   "execution_count": 205,
   "metadata": {},
   "outputs": [],
   "source": [
    "my_email=os.environ.get('google_mail')\n",
    "password=os.environ.get('google_psw')"
   ]
  },
  {
   "cell_type": "markdown",
   "metadata": {},
   "source": [
    "### 3. Select the right imap adress. "
   ]
  },
  {
   "cell_type": "markdown",
   "metadata": {},
   "source": [
    "**You can find your imap adress right here :** \n",
    "\n",
    "https://www.systoolsgroup.com/imap/. \n",
    "\n",
    "Google is : imap.gmail.com, Yahoo is imap.mail.yahoo.com..."
   ]
  },
  {
   "cell_type": "code",
   "execution_count": 206,
   "metadata": {},
   "outputs": [],
   "source": [
    "imap = imaplib.IMAP4_SSL(\"imap.gmail.com\", port=993)"
   ]
  },
  {
   "cell_type": "markdown",
   "metadata": {},
   "source": [
    "### 4. Try you connection !"
   ]
  },
  {
   "cell_type": "code",
   "execution_count": 207,
   "metadata": {},
   "outputs": [],
   "source": [
    "def test_connection():\n",
    "    try :\n",
    "        rv,data=imap.login(my_email, password)\n",
    "        print(rv,data)\n",
    "        print('Successfully completed mail.login')\n",
    "    except:\n",
    "        print('login FAILED!')\n",
    "    "
   ]
  },
  {
   "cell_type": "code",
   "execution_count": 208,
   "metadata": {},
   "outputs": [
    {
     "name": "stdout",
     "output_type": "stream",
     "text": [
      "login FAILED!\n"
     ]
    }
   ],
   "source": [
    "test_connection()"
   ]
  },
  {
   "cell_type": "markdown",
   "metadata": {},
   "source": [
    "### 5. Get familiar with the folders names of your mailbox."
   ]
  },
  {
   "cell_type": "markdown",
   "metadata": {},
   "source": [
    "It is necessary to know the exact name. My folders are sometimes in french, sometime in english !"
   ]
  },
  {
   "cell_type": "raw",
   "metadata": {},
   "source": [
    "#To know the exact names of your mailbox kinds. \n",
    "for i in imap.list()[1]:\n",
    "    l = i.decode().split(' \"/\" ')\n",
    "    print(l[0] + \" = \" + l[1])"
   ]
  },
  {
   "cell_type": "markdown",
   "metadata": {},
   "source": [
    "### 6. Select the mailbox you want to clean. "
   ]
  },
  {
   "cell_type": "code",
   "execution_count": 12,
   "metadata": {},
   "outputs": [],
   "source": [
    "mailbox_selection='Inbox'"
   ]
  },
  {
   "cell_type": "markdown",
   "metadata": {},
   "source": [
    "### 7. Try the connection to the specific mailbox."
   ]
  },
  {
   "cell_type": "code",
   "execution_count": 13,
   "metadata": {},
   "outputs": [],
   "source": [
    "def mailbox_connection():\n",
    "\n",
    "    \"\"\" The function returns the list of all emails. \"\"\"\n",
    "    fromStr=''\n",
    "    subjectStr=''\n",
    "\n",
    "    status,msgs=imap.select(mailbox_selection) \n",
    "    print('The status for the mailbox selection is :' + status)\n",
    "\n",
    "    if status=='OK':\n",
    "        typ, data=imap.uid('search',None,'ALL')\n",
    "    \n",
    "    #Count the number of messages\n",
    "        msgList=data[0].split()\n",
    "        numMsg=len(msgList)\n",
    "        print('Total %s messages in mailbox' %str(numMsg))\n",
    "    return msgList"
   ]
  },
  {
   "cell_type": "raw",
   "metadata": {},
   "source": [
    "mailbox_connection()"
   ]
  },
  {
   "cell_type": "markdown",
   "metadata": {},
   "source": [
    "There were 4 000 mails stored in my personnal mailbox, even tho I cleaned it a few years ago and suppress everyday lot of them !"
   ]
  },
  {
   "cell_type": "markdown",
   "metadata": {},
   "source": [
    "### 7.bis : if the server logs out automatically."
   ]
  },
  {
   "cell_type": "markdown",
   "metadata": {},
   "source": [
    "The server logs out every 30 minutes. Run the following function to connect again. "
   ]
  },
  {
   "cell_type": "code",
   "execution_count": 192,
   "metadata": {},
   "outputs": [],
   "source": [
    "imap = imaplib.IMAP4_SSL(\"imap.gmail.com\", port=993)\n",
    "\n",
    "def reconnect():\n",
    "    mailbox_selection='Inbox'\n",
    "    test_connection()\n",
    "    mailbox_connection()"
   ]
  },
  {
   "cell_type": "code",
   "execution_count": 193,
   "metadata": {},
   "outputs": [
    {
     "name": "stdout",
     "output_type": "stream",
     "text": [
      "OK [b'LOGIN completed']\n",
      "Successfully completed mail.login\n",
      "The status for the mailbox selection is :OK\n",
      "Total 2990 messages in mailbox\n"
     ]
    }
   ],
   "source": [
    "reconnect()"
   ]
  },
  {
   "cell_type": "markdown",
   "metadata": {},
   "source": [
    "### 8. Generate the dataframe of your mails."
   ]
  },
  {
   "cell_type": "markdown",
   "metadata": {},
   "source": [
    "Let's dive in the technical aspects now. The following function creates a dataframe with the message id, the date, the address and the expeditor. \n",
    "\n",
    "**The server logs out automatically after 30 minutes (in some cases 14 !). This is why we have to exist the while loop before 29 minutes.**\n",
    "\n",
    "\"percFirstMail\" is the percentage of the mailbox for which the mailbox will be stored. For example: percFirstMail=0 will store in the dataframe from the first mail until 30 minutes are done, and percFirstMail=0.4 will begin at 40% of your mailbox.\n",
    "\n",
    "You can generate a new df when the first one helped you to clean your mailbox. In my case, i had : \n",
    "\n",
    "Total 3960 messages in mailbox\n",
    "43.63636363636363 % of the mailbox has been stored in \"msgData\" for a duration of 29.02558348576228 minutes."
   ]
  },
  {
   "cell_type": "code",
   "execution_count": 16,
   "metadata": {},
   "outputs": [],
   "source": [
    "## Generate the df.\n",
    "def mails_to_df(percFirstMail=0.4): #\n",
    "    #Set up a dictionary to hold the data\n",
    "    subjectDict={}\n",
    "    fromDict={}\n",
    "    dateDict={}\n",
    "    \n",
    "    imap.noop() #refreshes the connection. After it, the server logs out automatically after 30 minutes. \n",
    "    \n",
    "    time_duration = 29*60 # the loop to store mails will finish before the 30 minutes. Otherwise, we loose connection. \n",
    "    time_start = time.time() #current second\n",
    "  \n",
    "    messages=mailbox_connection() #list of mails id. \n",
    "    lenMailbox=len(messages)\n",
    "\n",
    "    i=np.floor(percFirstMail*lenMailbox) # the num of the mail you begin with.\n",
    "\n",
    "    while (time.time() < time_start + time_duration) & (i<lenMailbox): #before 29 minutes and until we stored the maximum of emails.\n",
    "\n",
    "        num=messages[i]\n",
    "        rv, data = imap.uid('fetch',num,'(RFC822)')\n",
    "\n",
    "        if rv != 'OK':\n",
    "            print(\"ERROR getting message: \", num)\n",
    "\n",
    "        if data[0] is not None:\n",
    "\n",
    "            msg = email.message_from_bytes(data[0][1])\n",
    "            fromStr=make_header(decode_header(msg['From']))\n",
    "            fromStr=str(fromStr)\n",
    "            fromDict[num]=fromStr\n",
    "\n",
    "            date=msg['Date']\n",
    "            dateDict[num]=date\n",
    "\n",
    "            if msg['Subject']: #if the message has a subject. \n",
    "\n",
    "                subjectStr=str(make_header(decode_header(msg['Subject'])))\n",
    "                subjectStr=str(subjectStr)\n",
    "                print ('Message: %s, Subject: %s Date: %s' %(num, subjectStr, str(msg['Date'])))\n",
    "\n",
    "            else: \n",
    "\n",
    "                subjectStr=''\n",
    "                print ('From:', fromStr) \n",
    "            \n",
    "            i+=1\n",
    "            \n",
    "        subjectDict[num]=subjectStr \n",
    "        \n",
    "    imap.noop()    \n",
    "\n",
    "    Subjects, Froms , Dates = subjectDict,fromDict, dateDict\n",
    "    msgDict={'Subject':Subjects,'From':Froms, 'Date':dateDict}\n",
    "    df=DataFrame(msgDict)\n",
    "    \n",
    "    print('\\n')\n",
    "    print(len(df)/len(mailbox_connection())*100, '% of the mailbox has been stored in \"msgData\" for a duration of', (time.time()-time_start)/60, \"minutes.\")\n",
    "\n",
    "    \n",
    "    return df"
   ]
  },
  {
   "cell_type": "markdown",
   "metadata": {},
   "source": [
    "The next function can last 29 minutes."
   ]
  },
  {
   "cell_type": "raw",
   "metadata": {},
   "source": [
    "msgData=mails_to_df() #the df"
   ]
  },
  {
   "cell_type": "markdown",
   "metadata": {},
   "source": [
    "I personally recommend to store this df : we don't want to loose a 30-minute-long run !"
   ]
  },
  {
   "cell_type": "code",
   "execution_count": 19,
   "metadata": {},
   "outputs": [],
   "source": [
    "msgData.to_csv('firstMsgData.csv')"
   ]
  },
  {
   "cell_type": "markdown",
   "metadata": {},
   "source": [
    "### 9. Clean the msgData dataframe"
   ]
  },
  {
   "cell_type": "markdown",
   "metadata": {},
   "source": [
    "As I have read on a StackOverFlow thread : 'welcome to hell'. \n",
    "\n",
    "Indeed, we have to deal with ... date formats ! Exciting ! "
   ]
  },
  {
   "cell_type": "markdown",
   "metadata": {},
   "source": [
    "I've listed the type of date format I had to deal with. You can always add \"if\" clauses. "
   ]
  },
  {
   "cell_type": "code",
   "execution_count": 178,
   "metadata": {},
   "outputs": [],
   "source": [
    "#Get a clean df with the message id, the subject, the expeditor and the email address and the good date format. \n",
    "def cleanDf(dataframe):\n",
    "\n",
    "    \"\"\" It allows us to separate the name from the address in the df. \"\"\"\n",
    "\n",
    "    address_list=[]\n",
    "    from_list=[]\n",
    "    date_list=[]\n",
    "\n",
    "    df=dataframe.copy()\n",
    "    df.dropna(how='any',inplace=True)\n",
    "    df.reset_index(inplace=True)\n",
    "    \n",
    "\n",
    "    len1=len(\"Mon, 4 Aug 2008 21:09:52 +0000 (GMT)\")\n",
    "    len2=len(\"Mon, 21 Aug 2008 21:09:52 +0000 (GMT)\")\n",
    "    len3=len(\"Wed, 26 Jul 2017 12:11:31 +0200 (CEST)\")\n",
    "    len8=len(\"Thu, 07 Nov 2019 14:58:13 GMT\")\n",
    "\n",
    "    len9=len(\"Tue,  2 Jun 2020 18:17:24 +0000 (UTC)\")\n",
    "\n",
    "    len4=len(\"Mon, 4 Aug 2008 21:09:52 +0000\")\n",
    "    len5=len(\"Mon, 21 Aug 2008 21:09:52 +0000\")\n",
    "\n",
    "    len6=len(\"4 Sep 2019 10:42:52 -0400\") \n",
    "    len7=len(\"11 Sep 2019 10:42:52 -0400\")\n",
    "\n",
    "    for i in df.From: #for the address : we extrat the name of expeditor and the email address. \n",
    "        \n",
    "        if '<' in i:\n",
    "            pos1=i.find('<')\n",
    "            pos2=i.find('>')\n",
    "\n",
    "            expeditor=i[:pos1]\n",
    "            address=i[pos1+1:pos2]\n",
    "\n",
    "            address_list.append(address)\n",
    "            from_list.append(expeditor)\n",
    "\n",
    "        else:\n",
    "            address_list.append(i)\n",
    "            from_list.append(i)\n",
    "\n",
    "    for i in df.Date: #to get the date. In each header, we have ±XXXX (GMT) or (PDT), but the type can differ. \n",
    "        \n",
    "        if len(i) in [len1,len2,len4,len5,len8]:\n",
    "            pos1=i.find(',')\n",
    "            pos2=i.find(':')\n",
    "            \n",
    "            dateFormat=i[pos1+2:pos2-3]\n",
    "            date_list.append(dateFormat)\n",
    "\n",
    "        elif len(i) in [len6,len7]:\n",
    "            pos=i.find(':')\n",
    "            \n",
    "            dateFormat=i[pos-18:pos-3]\n",
    "            date_list.append(dateFormat)\n",
    "\n",
    "        elif len(i) in [len3,len9]:\n",
    "\n",
    "            if i[5]==' ':\n",
    "                pos1=i.find(',')\n",
    "                pos2=i.find(':')\n",
    "\n",
    "                dateFormat=i[pos1+3:pos2-3]\n",
    "                date_list.append(dateFormat)\n",
    "\n",
    "            elif i[5]!=' ':\n",
    "                pos1=i.find(',')\n",
    "                pos2=i.find(':')\n",
    "\n",
    "                dateFormat=i[pos1+2:pos2-3]\n",
    "                date_list.append(dateFormat)\n",
    "\n",
    "        else:\n",
    "            print(i)\n",
    "\n",
    "    df['Address']=address_list\n",
    "    df['From']=from_list\n",
    "    df['Date']=date_list\n",
    "    df['Date']= pd.to_datetime(df['Date'],errors='coerce', format='%d %b %Y')\n",
    "    \n",
    "    return df"
   ]
  },
  {
   "cell_type": "code",
   "execution_count": 180,
   "metadata": {},
   "outputs": [],
   "source": [
    "cleanMsgData=cleanDf(msgData)"
   ]
  },
  {
   "cell_type": "markdown",
   "metadata": {},
   "source": [
    "### 10. Know you most frequent expeditor..."
   ]
  },
  {
   "cell_type": "raw",
   "metadata": {},
   "source": [
    "cleanMsgData['Address'].value_counts()[:25]"
   ]
  },
  {
   "cell_type": "markdown",
   "metadata": {},
   "source": [
    "### 11. ...and vizualise it. "
   ]
  },
  {
   "cell_type": "code",
   "execution_count": 183,
   "metadata": {},
   "outputs": [],
   "source": [
    "##Plot of the n top expeditors\n",
    "def plot_frequency(dataframe,top_n=10, addressOrFrom='Address'):\n",
    "    fig, ax = plt.subplots(figsize=(7,4))\n",
    "    df=DataFrame(dataframe[addressOrFrom].value_counts()[:top_n])\n",
    "    df.plot( kind='barh',legend = False, ax=ax)\n",
    "    ax.set_xlabel('Number')\n",
    "    ax.set_ylabel('Expeditor')\n",
    "    plt.show()"
   ]
  },
  {
   "cell_type": "markdown",
   "metadata": {},
   "source": [
    "plot_frequency(cleanMsgData,top_n=20,addressOrFrom='From')"
   ]
  },
  {
   "cell_type": "markdown",
   "metadata": {},
   "source": [
    "### 12. Build the function which will transfer selected emails in the trash folder"
   ]
  },
  {
   "cell_type": "markdown",
   "metadata": {},
   "source": [
    "To put mails in the trash folder is not the same as to delete it for ever. With Google, the mails stored in the trash will be deleted after 30 days, and only then, be forever deleted. \n",
    "\n",
    "You have thus a backup if you deleted a wrong mail. "
   ]
  },
  {
   "cell_type": "code",
   "execution_count": 185,
   "metadata": {},
   "outputs": [],
   "source": [
    "trashFolderName=\"Trash\""
   ]
  },
  {
   "cell_type": "code",
   "execution_count": 186,
   "metadata": {},
   "outputs": [],
   "source": [
    "def transferFiles(deleteSeries):\n",
    "\n",
    "    count=0\n",
    "\n",
    "    for i in range(len(deleteSeries)):\n",
    "\n",
    "        uid=deleteSeries.index[i]\n",
    "        rv, data = imap.uid('COPY',uid,trashFolderName) # we copy the mail in the trash folder\n",
    "        print ('The status for copying', uid,' to the trash is :' + rv)\n",
    "\n",
    "        if rv != 'OK':\n",
    "            print(\"ERROR getting message: \", uid)\n",
    "\n",
    "        else: \n",
    "            print('moving msg %s' %uid)\n",
    "            count+=1\n",
    "            mov, data = imap.uid('STORE', uid , '+FLAGS', '(\\\\Deleted)') #This deletes for ever the mail. To copy it in the trash is not the same thing. \n",
    "            print ('The status for deleting', uid,' is :' + mov)\n",
    "            print('\\n')\n",
    "            imap.expunge()\n",
    "            \n",
    "    print( count, \"emails have been removed.\")\n",
    "    print('\\n')\n",
    "    return count"
   ]
  },
  {
   "cell_type": "markdown",
   "metadata": {},
   "source": [
    "### 13. Put the top N expeditors in the trash"
   ]
  },
  {
   "cell_type": "markdown",
   "metadata": {},
   "source": [
    "**Attention ! Only run the following function if you want the N top expeditor's mail in the trash.**\n",
    "\n",
    "If your beloved partner is in top and you don't want to erase everything, let's go to the next function ;-) ."
   ]
  },
  {
   "cell_type": "code",
   "execution_count": 212,
   "metadata": {},
   "outputs": [],
   "source": [
    "def transferToTrashTopN(n=10):\n",
    "\n",
    "    allCounts=0\n",
    "    fromSeries=msgData['From']\n",
    "    topFrom=fromSeries.value_counts()\n",
    "\n",
    "    for i in range(n):\n",
    "        maskFrom=topFrom.index[i] #varchar\n",
    "        mask=fromSeries.isin([maskFrom]) #serie of boolean\n",
    "        seriesToDelete=fromSeries[mask] #Serie with the id and the unique query\n",
    "        allCounts+=transferFiles(seriesToDelete)\n",
    "\n",
    "    print(\"In total,\", allCounts, 'mails have been removed.')"
   ]
  },
  {
   "cell_type": "markdown",
   "metadata": {},
   "source": [
    "### 14. Transfer mails from the expeditors you choosed. "
   ]
  },
  {
   "cell_type": "markdown",
   "metadata": {},
   "source": [
    "This gets the top expeditor, a list which form you can suppress what you want. "
   ]
  },
  {
   "cell_type": "raw",
   "metadata": {},
   "source": [
    "list(cleanMsgData['Address'].value_counts()[:30].index)"
   ]
  },
  {
   "cell_type": "code",
   "execution_count": 209,
   "metadata": {},
   "outputs": [],
   "source": [
    "listToSuppress=['firstMail@mail.com',\n",
    "'secondMail@mail.com']"
   ]
  },
  {
   "cell_type": "markdown",
   "metadata": {},
   "source": [
    "This function will transfer in trash all mails which are dated before the delta time and for the specific list instancied before."
   ]
  },
  {
   "cell_type": "code",
   "execution_count": 190,
   "metadata": {},
   "outputs": [],
   "source": [
    "## transfer mail according to specific criteria. \n",
    "def transferToTrashCriteria(timeDelta=30): #All mails before 30 days. \n",
    "\n",
    "    \"\"\" This function will transfer all mails which are dated before the delta time and for the specific list instancied before\"\"\"\n",
    "\n",
    "    today = datetime.date.today()\n",
    "    lastMonth = today - datetime.timedelta(days=timeDelta)\n",
    "    date=lastMonth.strftime(\"%d-%b-%Y\") #the date of last month's same day, because timeDelta=30. \n",
    "\n",
    "    count=0 #number of mail deleted. \n",
    "\n",
    "    for exped in listToSuppress:\n",
    "        \n",
    "        print(exped)\n",
    "        print('\\n')\n",
    "\n",
    "        try: \n",
    "\n",
    "            status, messages_id_list = imap.uid('search', None, 'BEFORE', date ,'FROM' , exped) \n",
    "            print ('The status for these search criterion is :' + status)\n",
    "            print('\\n')\n",
    "\n",
    "            messages = messages_id_list[0].split() #convert the string ids to list of email ids\n",
    "            print(messages)\n",
    "            print('\\n')\n",
    "\n",
    "            for uid in messages:\n",
    "                rv, data = imap.uid('COPY',uid,trashFolderName)\n",
    "                print ('The status for copying', uid,'to the trash is :' + rv)\n",
    "                if rv != 'OK':\n",
    "                    print(\"ERROR getting message: \", uid)\n",
    "                else: \n",
    "                    print('moving msg %s' %uid)\n",
    "                    mov, data = imap.uid('STORE', uid , '+FLAGS', '(\\\\Deleted)')\n",
    "                    print ('The status for deleting', uid,' is :' + status)\n",
    "                    count+=1\n",
    "                    print('\\n')\n",
    "                    imap.expunge()\n",
    "\n",
    "        except:\n",
    "            print('The procedure did not succeed.')\n",
    "    print(\"In total,\", count, 'mails have been removed. It is about', count*10, 'grams of CO2 avoided by year.')"
   ]
  },
  {
   "cell_type": "raw",
   "metadata": {},
   "source": [
    "count=transferToTrashCriteria()"
   ]
  },
  {
   "cell_type": "markdown",
   "metadata": {},
   "source": [
    "In total, 874 mails have been removed in 12 minutes..."
   ]
  },
  {
   "cell_type": "markdown",
   "metadata": {},
   "source": [
    "**DO NOT FORGET that you might have to rerun again, if you did not store all your mail in msgData. If only 40% of your mailbox has been stored in msgData, change the parameter percFirstMail of mails_to_df() to 0.6.**"
   ]
  },
  {
   "cell_type": "markdown",
   "metadata": {},
   "source": [
    "### 15. Close connection"
   ]
  },
  {
   "cell_type": "code",
   "execution_count": 210,
   "metadata": {},
   "outputs": [],
   "source": [
    "def closeConnection():\n",
    "    imap.close() #Close currently selected mailbox\n",
    "    imap.logout()"
   ]
  },
  {
   "cell_type": "raw",
   "metadata": {},
   "source": [
    "closeConnection()"
   ]
  },
  {
   "cell_type": "markdown",
   "metadata": {},
   "source": [
    "### 16. Run the notebook every month with Kaggle. "
   ]
  },
  {
   "cell_type": "markdown",
   "metadata": {},
   "source": [
    "Kaggle has the feature to run a notebook you wrote with the frequency you choosed. Thus, you can copy/paste (or upload) this notebook, and set the frequency. \n",
    "\n",
    "Moreover, I planned to send and e-mail every time the notebook is runned :\n",
    "\n",
    "(basically, imap is a protocol to read email, and smtp to send. )"
   ]
  },
  {
   "cell_type": "code",
   "execution_count": null,
   "metadata": {},
   "outputs": [],
   "source": [
    "from smtplib import SMTP_SSL, SMTP_SSL_PORT\n",
    "\n",
    "\n",
    "SMTP_HOST = 'smtp.gmail.com' #for google\n",
    "SMTP_USER=os.environ['google_mail']\n",
    "SMTP_PASS=password=os.environ['google_psw'] #the password of your api key (2-SV)\n",
    "\n",
    "\n",
    "# Craft the email by hand\n",
    "from_email = SMTP_USER  \n",
    "to_emails = [SMTP_USER] \n",
    "body = 'You just erased ' + str(count) + ' mails from your '+ my_email + ' mailbox, which represents ' + str(10*count) + 'grams of C02 avoided by year. The top senders are ' +  str(cleanMsgData['Address'].value_counts()[:25])\n",
    "headers = f\"From: {from_email}\\r\\n\"\n",
    "headers += f\"To: {', '.join(to_emails)}\\r\\n\" \n",
    "headers += f\"Subject: Hello\\r\\n\"\n",
    "email_message = headers + \"\\r\\n\" + body  # Blank line needed between headers and body\n",
    "\n",
    "# Connect, authenticate, and send mail\n",
    "smtp_server = SMTP_SSL(SMTP_HOST, port=SMTP_SSL_PORT)\n",
    "smtp_server.set_debuglevel(1)  # Show SMTP server interactions\n",
    "smtp_server.login(SMTP_USER, SMTP_PASS)\n",
    "smtp_server.sendmail(from_email, to_emails, email_message)\n",
    "\n",
    "# Disconnect\n",
    "smtp_server.quit()"
   ]
  },
  {
   "cell_type": "markdown",
   "metadata": {},
   "source": [
    "Do not forget to erase this mail after reading it ;-)."
   ]
  },
  {
   "cell_type": "markdown",
   "metadata": {},
   "source": [
    "# Conclusion"
   ]
  },
  {
   "cell_type": "markdown",
   "metadata": {},
   "source": [
    "In this notebook, we learned :\n",
    "\n",
    "1. how to set up the 2-SV key,\n",
    "2. how to connect to your mailbox, choose the folder, \n",
    "3. how to create a cleaned df with the email contents #weLoveTimeFormats,\n",
    "4. how to know who send us the most emails, \n",
    "5. how to transfer to trash the top N expeditors, and the choosen ones in a list we created, \n",
    "6. How to send an email with python. \n"
   ]
  },
  {
   "cell_type": "markdown",
   "metadata": {},
   "source": [
    "The quantity of gas emission avoided might be low, but it is not. I encourage you to share this notebook or run it for the people you know : you only need their email and an app-key ! "
   ]
  },
  {
   "cell_type": "markdown",
   "metadata": {},
   "source": [
    "# Credits"
   ]
  },
  {
   "cell_type": "markdown",
   "metadata": {},
   "source": [
    "All the links that helped me to build the code, except from the official documentation you should always refer to ! ;-)"
   ]
  },
  {
   "cell_type": "markdown",
   "metadata": {},
   "source": [
    "https://www.techgeekbuzz.com/how-to-delete-emails-in-python/\n",
    "\n",
    "https://www.systoolsgroup.com/imap/\n",
    "\n",
    "https://www.linkedin.com/pulse/reduce-your-email-inbox-30-2-hours-simple-data-dr-darren-obrigkeit/\n",
    "\n",
    "https://www.tiger-222.fr/?d=2016/01/21/16/35/09-python-et-imap-exemple-concret\n",
    "\n",
    "https://www.rfc-editor.org/rfc/rfc3501#section-6.4.4\n",
    "\n",
    "https://carbonliteracy.com/the-carbon-cost-of-an-email/"
   ]
  }
 ],
 "metadata": {
  "interpreter": {
   "hash": "037d1818fbf44f18849bc97085e1da2cc5b46dae87c46efcff64f00349c4efdb"
  },
  "kernelspec": {
   "display_name": "Python 3.6.2 64-bit ('base': conda)",
   "name": "python3"
  },
  "language_info": {
   "codemirror_mode": {
    "name": "ipython",
    "version": 3
   },
   "file_extension": ".py",
   "mimetype": "text/x-python",
   "name": "python",
   "nbconvert_exporter": "python",
   "pygments_lexer": "ipython3",
   "version": "3.6.2"
  },
  "orig_nbformat": 4
 },
 "nbformat": 4,
 "nbformat_minor": 2
}
